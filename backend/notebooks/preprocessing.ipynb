{
 "cells": [
  {
   "cell_type": "markdown",
   "id": "4e55e43f",
   "metadata": {},
   "source": [
    "# HexCourtVision Preprocessing\n",
    "\n",
    "This notebook is dedicated to the preprocessing of NBA game data. It covers the necessary steps to clean and prepare the data for subsequent analysis. The preprocessing includes data cleaning, alignment of player and ball positions, distance calculations between players and the ball, and identification of significant game events such as possession changes, shots, and passes. Follow the step-by-step guide provided in each section to transform raw game data into a structured and analyzable format."
   ]
  },
  {
   "cell_type": "code",
   "execution_count": 1,
   "id": "c0325b55",
   "metadata": {},
   "outputs": [],
   "source": [
    "GAME_KEY = \"20151228SACGSW\" # Change to the game key you would like to process"
   ]
  },
  {
   "cell_type": "code",
   "execution_count": 2,
   "id": "65b0210a",
   "metadata": {
    "scrolled": false
   },
   "outputs": [
    {
     "name": "stdout",
     "output_type": "stream",
     "text": [
      "[{'player_id': 2571, 'team_id': 1610612744, 'first_name': 'Leandro', 'last_name': 'Barbosa', 'jersey_number': '19', 'position': 'G'}, {'player_id': 2733, 'team_id': 1610612744, 'first_name': 'Shaun', 'last_name': 'Livingston', 'jersey_number': '34', 'position': 'G'}, {'player_id': 2738, 'team_id': 1610612744, 'first_name': 'Andre', 'last_name': 'Iguodala', 'jersey_number': '9', 'position': 'G-F'}, {'player_id': 101106, 'team_id': 1610612744, 'first_name': 'Andrew', 'last_name': 'Bogut', 'jersey_number': '12', 'position': 'C'}, {'player_id': 201574, 'team_id': 1610612744, 'first_name': 'Jason', 'last_name': 'Thompson', 'jersey_number': '1', 'position': 'F-C'}, {'player_id': 201575, 'team_id': 1610612744, 'first_name': 'Brandon', 'last_name': 'Rush', 'jersey_number': '4', 'position': 'F-G'}, {'player_id': 201578, 'team_id': 1610612744, 'first_name': 'Marreese', 'last_name': 'Speights', 'jersey_number': '5', 'position': 'F-C'}, {'player_id': 201939, 'team_id': 1610612744, 'first_name': 'Stephen', 'last_name': 'Curry', 'jersey_number': '30', 'position': 'G'}, {'player_id': 202691, 'team_id': 1610612744, 'first_name': 'Klay', 'last_name': 'Thompson', 'jersey_number': '11', 'position': 'G'}, {'player_id': 203105, 'team_id': 1610612744, 'first_name': 'Festus', 'last_name': 'Ezeli', 'jersey_number': '31', 'position': 'C'}, {'player_id': 203110, 'team_id': 1610612744, 'first_name': 'Draymond', 'last_name': 'Green', 'jersey_number': '23', 'position': 'F'}, {'player_id': 203546, 'team_id': 1610612744, 'first_name': 'Ian', 'last_name': 'Clark', 'jersey_number': '21', 'position': 'G'}, {'player_id': 203949, 'team_id': 1610612744, 'first_name': 'James Michael', 'last_name': 'McAdoo', 'jersey_number': '20', 'position': 'F'}, {'player_id': 2406, 'team_id': 1610612758, 'first_name': 'Caron', 'last_name': 'Butler', 'jersey_number': '31', 'position': 'F'}, {'player_id': 200752, 'team_id': 1610612758, 'first_name': 'Rudy', 'last_name': 'Gay', 'jersey_number': '8', 'position': 'F'}, {'player_id': 200765, 'team_id': 1610612758, 'first_name': 'Rajon', 'last_name': 'Rondo', 'jersey_number': '9', 'position': 'G'}, {'player_id': 201158, 'team_id': 1610612758, 'first_name': 'Marco', 'last_name': 'Belinelli', 'jersey_number': '3', 'position': 'G-F'}, {'player_id': 201585, 'team_id': 1610612758, 'first_name': 'Kosta', 'last_name': 'Koufos', 'jersey_number': '41', 'position': 'C'}, {'player_id': 201954, 'team_id': 1610612758, 'first_name': 'Darren', 'last_name': 'Collison', 'jersey_number': '7', 'position': 'G'}, {'player_id': 201956, 'team_id': 1610612758, 'first_name': 'Omri', 'last_name': 'Casspi', 'jersey_number': '18', 'position': 'F'}, {'player_id': 202326, 'team_id': 1610612758, 'first_name': 'DeMarcus', 'last_name': 'Cousins', 'jersey_number': '15', 'position': 'F-C'}, {'player_id': 202341, 'team_id': 1610612758, 'first_name': 'James', 'last_name': 'Anderson', 'jersey_number': '5', 'position': 'G-F'}, {'player_id': 203112, 'team_id': 1610612758, 'first_name': 'Quincy', 'last_name': 'Acy', 'jersey_number': '13', 'position': 'F'}, {'player_id': 203463, 'team_id': 1610612758, 'first_name': 'Ben', 'last_name': 'McLemore', 'jersey_number': '23', 'position': 'G'}, {'player_id': 203552, 'team_id': 1610612758, 'first_name': 'Seth', 'last_name': 'Curry', 'jersey_number': '30', 'position': 'G'}, {'player_id': 1626251, 'team_id': 1610612758, 'first_name': 'Duje', 'last_name': 'Dukan', 'jersey_number': '26', 'position': 'F'}]\n"
     ]
    },
    {
     "ename": "KeyError",
     "evalue": "'EVENT_NUM'",
     "output_type": "error",
     "traceback": [
      "\u001b[0;31m---------------------------------------------------------------------------\u001b[0m",
      "\u001b[0;31mKeyError\u001b[0m                                  Traceback (most recent call last)",
      "\u001b[0;32m/usr/local/lib/python3.11/site-packages/pandas/core/indexes/base.py\u001b[0m in \u001b[0;36mget_loc\u001b[0;34m(self, key)\u001b[0m\n\u001b[1;32m   3804\u001b[0m         \u001b[0;32mtry\u001b[0m\u001b[0;34m:\u001b[0m\u001b[0;34m\u001b[0m\u001b[0;34m\u001b[0m\u001b[0m\n\u001b[0;32m-> 3805\u001b[0;31m             \u001b[0;32mreturn\u001b[0m \u001b[0mself\u001b[0m\u001b[0;34m.\u001b[0m\u001b[0m_engine\u001b[0m\u001b[0;34m.\u001b[0m\u001b[0mget_loc\u001b[0m\u001b[0;34m(\u001b[0m\u001b[0mcasted_key\u001b[0m\u001b[0;34m)\u001b[0m\u001b[0;34m\u001b[0m\u001b[0;34m\u001b[0m\u001b[0m\n\u001b[0m\u001b[1;32m   3806\u001b[0m         \u001b[0;32mexcept\u001b[0m \u001b[0mKeyError\u001b[0m \u001b[0;32mas\u001b[0m \u001b[0merr\u001b[0m\u001b[0;34m:\u001b[0m\u001b[0;34m\u001b[0m\u001b[0;34m\u001b[0m\u001b[0m\n",
      "\u001b[0;32mindex.pyx\u001b[0m in \u001b[0;36mpandas._libs.index.IndexEngine.get_loc\u001b[0;34m()\u001b[0m\n",
      "\u001b[0;32mindex.pyx\u001b[0m in \u001b[0;36mpandas._libs.index.IndexEngine.get_loc\u001b[0;34m()\u001b[0m\n",
      "\u001b[0;32mpandas/_libs/hashtable_class_helper.pxi\u001b[0m in \u001b[0;36mpandas._libs.hashtable.PyObjectHashTable.get_item\u001b[0;34m()\u001b[0m\n",
      "\u001b[0;32mpandas/_libs/hashtable_class_helper.pxi\u001b[0m in \u001b[0;36mpandas._libs.hashtable.PyObjectHashTable.get_item\u001b[0;34m()\u001b[0m\n",
      "\u001b[0;31mKeyError\u001b[0m: 'EVENT_NUM'",
      "\nThe above exception was the direct cause of the following exception:\n",
      "\u001b[0;31mKeyError\u001b[0m                                  Traceback (most recent call last)",
      "\u001b[0;32m/tmp/ipykernel_1781/474266908.py\u001b[0m in \u001b[0;36m<cell line: 0>\u001b[0;34m()\u001b[0m\n\u001b[1;32m      3\u001b[0m \u001b[0;34m\u001b[0m\u001b[0m\n\u001b[1;32m      4\u001b[0m \u001b[0;31m# First, process the raw game and event data\u001b[0m\u001b[0;34m\u001b[0m\u001b[0;34m\u001b[0m\u001b[0m\n\u001b[0;32m----> 5\u001b[0;31m \u001b[0mgame_df\u001b[0m \u001b[0;34m=\u001b[0m \u001b[0mprocess_game\u001b[0m\u001b[0;34m(\u001b[0m\u001b[0mGAME_KEY\u001b[0m\u001b[0;34m)\u001b[0m\u001b[0;34m\u001b[0m\u001b[0;34m\u001b[0m\u001b[0m\n\u001b[0m",
      "\u001b[0;32m/app/ml_nba/preprocessing/process_game.py\u001b[0m in \u001b[0;36mprocess_game\u001b[0;34m(game_key, save_results, save_dir)\u001b[0m\n\u001b[1;32m     40\u001b[0m \u001b[0;34m\u001b[0m\u001b[0m\n\u001b[1;32m     41\u001b[0m     \u001b[0;31m# Extract possession info\u001b[0m\u001b[0;34m\u001b[0m\u001b[0;34m\u001b[0m\u001b[0m\n\u001b[0;32m---> 42\u001b[0;31m     \u001b[0mannotation_df\u001b[0m \u001b[0;34m=\u001b[0m \u001b[0mFeatureUtil\u001b[0m\u001b[0;34m.\u001b[0m\u001b[0mdetermine_possession_from_eventmsg\u001b[0m\u001b[0;34m(\u001b[0m\u001b[0mannotation_df\u001b[0m\u001b[0;34m,\u001b[0m \u001b[0mplayers_data\u001b[0m\u001b[0;34m)\u001b[0m\u001b[0;34m\u001b[0m\u001b[0;34m\u001b[0m\u001b[0m\n\u001b[0m\u001b[1;32m     43\u001b[0m \u001b[0;34m\u001b[0m\u001b[0m\n\u001b[1;32m     44\u001b[0m     \u001b[0;31m# Remove extraneous annotation columns after possession determination, as these columns are used for interim calculations\u001b[0m\u001b[0;34m\u001b[0m\u001b[0;34m\u001b[0m\u001b[0m\n",
      "\u001b[0;32m/app/ml_nba/preprocessing/utilities/FeatureUtil.py\u001b[0m in \u001b[0;36mdetermine_possession_from_eventmsg\u001b[0;34m(annotation_df, players_data)\u001b[0m\n\u001b[1;32m     81\u001b[0m \u001b[0;34m\u001b[0m\u001b[0m\n\u001b[1;32m     82\u001b[0m         \u001b[0;31m# Apply the custom logic to each event in the DataFrame\u001b[0m\u001b[0;34m\u001b[0m\u001b[0;34m\u001b[0m\u001b[0m\n\u001b[0;32m---> 83\u001b[0;31m         \u001b[0mannotation_df\u001b[0m\u001b[0;34m[\u001b[0m\u001b[0;34m'POSSESSION'\u001b[0m\u001b[0;34m]\u001b[0m \u001b[0;34m=\u001b[0m \u001b[0mannotation_df\u001b[0m\u001b[0;34m.\u001b[0m\u001b[0mapply\u001b[0m\u001b[0;34m(\u001b[0m\u001b[0mdetermine_event_possession\u001b[0m\u001b[0;34m,\u001b[0m \u001b[0maxis\u001b[0m\u001b[0;34m=\u001b[0m\u001b[0;36m1\u001b[0m\u001b[0;34m)\u001b[0m\u001b[0;34m\u001b[0m\u001b[0;34m\u001b[0m\u001b[0m\n\u001b[0m\u001b[1;32m     84\u001b[0m         \u001b[0mprint\u001b[0m\u001b[0;34m(\u001b[0m\u001b[0mannotation_df\u001b[0m\u001b[0;34m)\u001b[0m\u001b[0;34m\u001b[0m\u001b[0;34m\u001b[0m\u001b[0m\n\u001b[1;32m     85\u001b[0m         \u001b[0;32mreturn\u001b[0m \u001b[0mannotation_df\u001b[0m\u001b[0;34m\u001b[0m\u001b[0;34m\u001b[0m\u001b[0m\n",
      "\u001b[0;32m/usr/local/lib/python3.11/site-packages/pandas/core/frame.py\u001b[0m in \u001b[0;36mapply\u001b[0;34m(self, func, axis, raw, result_type, args, by_row, engine, engine_kwargs, **kwargs)\u001b[0m\n\u001b[1;32m  10359\u001b[0m             \u001b[0mkwargs\u001b[0m\u001b[0;34m=\u001b[0m\u001b[0mkwargs\u001b[0m\u001b[0;34m,\u001b[0m\u001b[0;34m\u001b[0m\u001b[0;34m\u001b[0m\u001b[0m\n\u001b[1;32m  10360\u001b[0m         )\n\u001b[0;32m> 10361\u001b[0;31m         \u001b[0;32mreturn\u001b[0m \u001b[0mop\u001b[0m\u001b[0;34m.\u001b[0m\u001b[0mapply\u001b[0m\u001b[0;34m(\u001b[0m\u001b[0;34m)\u001b[0m\u001b[0;34m.\u001b[0m\u001b[0m__finalize__\u001b[0m\u001b[0;34m(\u001b[0m\u001b[0mself\u001b[0m\u001b[0;34m,\u001b[0m \u001b[0mmethod\u001b[0m\u001b[0;34m=\u001b[0m\u001b[0;34m\"apply\"\u001b[0m\u001b[0;34m)\u001b[0m\u001b[0;34m\u001b[0m\u001b[0;34m\u001b[0m\u001b[0m\n\u001b[0m\u001b[1;32m  10362\u001b[0m \u001b[0;34m\u001b[0m\u001b[0m\n\u001b[1;32m  10363\u001b[0m     def map(\n",
      "\u001b[0;32m/usr/local/lib/python3.11/site-packages/pandas/core/apply.py\u001b[0m in \u001b[0;36mapply\u001b[0;34m(self)\u001b[0m\n\u001b[1;32m    914\u001b[0m             \u001b[0;32mreturn\u001b[0m \u001b[0mself\u001b[0m\u001b[0;34m.\u001b[0m\u001b[0mapply_raw\u001b[0m\u001b[0;34m(\u001b[0m\u001b[0mengine\u001b[0m\u001b[0;34m=\u001b[0m\u001b[0mself\u001b[0m\u001b[0;34m.\u001b[0m\u001b[0mengine\u001b[0m\u001b[0;34m,\u001b[0m \u001b[0mengine_kwargs\u001b[0m\u001b[0;34m=\u001b[0m\u001b[0mself\u001b[0m\u001b[0;34m.\u001b[0m\u001b[0mengine_kwargs\u001b[0m\u001b[0;34m)\u001b[0m\u001b[0;34m\u001b[0m\u001b[0;34m\u001b[0m\u001b[0m\n\u001b[1;32m    915\u001b[0m \u001b[0;34m\u001b[0m\u001b[0m\n\u001b[0;32m--> 916\u001b[0;31m         \u001b[0;32mreturn\u001b[0m \u001b[0mself\u001b[0m\u001b[0;34m.\u001b[0m\u001b[0mapply_standard\u001b[0m\u001b[0;34m(\u001b[0m\u001b[0;34m)\u001b[0m\u001b[0;34m\u001b[0m\u001b[0;34m\u001b[0m\u001b[0m\n\u001b[0m\u001b[1;32m    917\u001b[0m \u001b[0;34m\u001b[0m\u001b[0m\n\u001b[1;32m    918\u001b[0m     \u001b[0;32mdef\u001b[0m \u001b[0magg\u001b[0m\u001b[0;34m(\u001b[0m\u001b[0mself\u001b[0m\u001b[0;34m)\u001b[0m\u001b[0;34m:\u001b[0m\u001b[0;34m\u001b[0m\u001b[0;34m\u001b[0m\u001b[0m\n",
      "\u001b[0;32m/usr/local/lib/python3.11/site-packages/pandas/core/apply.py\u001b[0m in \u001b[0;36mapply_standard\u001b[0;34m(self)\u001b[0m\n\u001b[1;32m   1061\u001b[0m     \u001b[0;32mdef\u001b[0m \u001b[0mapply_standard\u001b[0m\u001b[0;34m(\u001b[0m\u001b[0mself\u001b[0m\u001b[0;34m)\u001b[0m\u001b[0;34m:\u001b[0m\u001b[0;34m\u001b[0m\u001b[0;34m\u001b[0m\u001b[0m\n\u001b[1;32m   1062\u001b[0m         \u001b[0;32mif\u001b[0m \u001b[0mself\u001b[0m\u001b[0;34m.\u001b[0m\u001b[0mengine\u001b[0m \u001b[0;34m==\u001b[0m \u001b[0;34m\"python\"\u001b[0m\u001b[0;34m:\u001b[0m\u001b[0;34m\u001b[0m\u001b[0;34m\u001b[0m\u001b[0m\n\u001b[0;32m-> 1063\u001b[0;31m             \u001b[0mresults\u001b[0m\u001b[0;34m,\u001b[0m \u001b[0mres_index\u001b[0m \u001b[0;34m=\u001b[0m \u001b[0mself\u001b[0m\u001b[0;34m.\u001b[0m\u001b[0mapply_series_generator\u001b[0m\u001b[0;34m(\u001b[0m\u001b[0;34m)\u001b[0m\u001b[0;34m\u001b[0m\u001b[0;34m\u001b[0m\u001b[0m\n\u001b[0m\u001b[1;32m   1064\u001b[0m         \u001b[0;32melse\u001b[0m\u001b[0;34m:\u001b[0m\u001b[0;34m\u001b[0m\u001b[0;34m\u001b[0m\u001b[0m\n\u001b[1;32m   1065\u001b[0m             \u001b[0mresults\u001b[0m\u001b[0;34m,\u001b[0m \u001b[0mres_index\u001b[0m \u001b[0;34m=\u001b[0m \u001b[0mself\u001b[0m\u001b[0;34m.\u001b[0m\u001b[0mapply_series_numba\u001b[0m\u001b[0;34m(\u001b[0m\u001b[0;34m)\u001b[0m\u001b[0;34m\u001b[0m\u001b[0;34m\u001b[0m\u001b[0m\n",
      "\u001b[0;32m/usr/local/lib/python3.11/site-packages/pandas/core/apply.py\u001b[0m in \u001b[0;36mapply_series_generator\u001b[0;34m(self)\u001b[0m\n\u001b[1;32m   1079\u001b[0m             \u001b[0;32mfor\u001b[0m \u001b[0mi\u001b[0m\u001b[0;34m,\u001b[0m \u001b[0mv\u001b[0m \u001b[0;32min\u001b[0m \u001b[0menumerate\u001b[0m\u001b[0;34m(\u001b[0m\u001b[0mseries_gen\u001b[0m\u001b[0;34m)\u001b[0m\u001b[0;34m:\u001b[0m\u001b[0;34m\u001b[0m\u001b[0;34m\u001b[0m\u001b[0m\n\u001b[1;32m   1080\u001b[0m                 \u001b[0;31m# ignore SettingWithCopy here in case the user mutates\u001b[0m\u001b[0;34m\u001b[0m\u001b[0;34m\u001b[0m\u001b[0m\n\u001b[0;32m-> 1081\u001b[0;31m                 \u001b[0mresults\u001b[0m\u001b[0;34m[\u001b[0m\u001b[0mi\u001b[0m\u001b[0;34m]\u001b[0m \u001b[0;34m=\u001b[0m \u001b[0mself\u001b[0m\u001b[0;34m.\u001b[0m\u001b[0mfunc\u001b[0m\u001b[0;34m(\u001b[0m\u001b[0mv\u001b[0m\u001b[0;34m,\u001b[0m \u001b[0;34m*\u001b[0m\u001b[0mself\u001b[0m\u001b[0;34m.\u001b[0m\u001b[0margs\u001b[0m\u001b[0;34m,\u001b[0m \u001b[0;34m**\u001b[0m\u001b[0mself\u001b[0m\u001b[0;34m.\u001b[0m\u001b[0mkwargs\u001b[0m\u001b[0;34m)\u001b[0m\u001b[0;34m\u001b[0m\u001b[0;34m\u001b[0m\u001b[0m\n\u001b[0m\u001b[1;32m   1082\u001b[0m                 \u001b[0;32mif\u001b[0m \u001b[0misinstance\u001b[0m\u001b[0;34m(\u001b[0m\u001b[0mresults\u001b[0m\u001b[0;34m[\u001b[0m\u001b[0mi\u001b[0m\u001b[0;34m]\u001b[0m\u001b[0;34m,\u001b[0m \u001b[0mABCSeries\u001b[0m\u001b[0;34m)\u001b[0m\u001b[0;34m:\u001b[0m\u001b[0;34m\u001b[0m\u001b[0;34m\u001b[0m\u001b[0m\n\u001b[1;32m   1083\u001b[0m                     \u001b[0;31m# If we have a view on v, we need to make a copy because\u001b[0m\u001b[0;34m\u001b[0m\u001b[0;34m\u001b[0m\u001b[0m\n",
      "\u001b[0;32m/app/ml_nba/preprocessing/utilities/FeatureUtil.py\u001b[0m in \u001b[0;36mdetermine_event_possession\u001b[0;34m(row)\u001b[0m\n\u001b[1;32m     75\u001b[0m                 \u001b[0mplayer_id_key\u001b[0m \u001b[0;34m=\u001b[0m \u001b[0;34m'PLAYER1_ID'\u001b[0m \u001b[0;32mif\u001b[0m \u001b[0mpossession_key\u001b[0m \u001b[0;34m==\u001b[0m \u001b[0;34m'PLAYER1_TEAM_ID'\u001b[0m \u001b[0;32melse\u001b[0m \u001b[0;34m'PLAYER2_ID'\u001b[0m\u001b[0;34m\u001b[0m\u001b[0;34m\u001b[0m\u001b[0m\n\u001b[1;32m     76\u001b[0m                 \u001b[0mplayer_id\u001b[0m \u001b[0;34m=\u001b[0m \u001b[0mrow\u001b[0m\u001b[0;34m.\u001b[0m\u001b[0mget\u001b[0m\u001b[0;34m(\u001b[0m\u001b[0mplayer_id_key\u001b[0m\u001b[0;34m)\u001b[0m\u001b[0;34m\u001b[0m\u001b[0;34m\u001b[0m\u001b[0m\n\u001b[0;32m---> 77\u001b[0;31m                 \u001b[0mprint\u001b[0m\u001b[0;34m(\u001b[0m\u001b[0mrow\u001b[0m\u001b[0;34m[\u001b[0m\u001b[0;34m'EVENT_NUM'\u001b[0m\u001b[0;34m]\u001b[0m\u001b[0;34m)\u001b[0m\u001b[0;34m\u001b[0m\u001b[0;34m\u001b[0m\u001b[0m\n\u001b[0m\u001b[1;32m     78\u001b[0m                 \u001b[0;32mreturn\u001b[0m \u001b[0mplayer_to_team_map\u001b[0m\u001b[0;34m.\u001b[0m\u001b[0mget\u001b[0m\u001b[0;34m(\u001b[0m\u001b[0mplayer_id\u001b[0m\u001b[0;34m,\u001b[0m \u001b[0;34mf'Unknown{player_id}'\u001b[0m\u001b[0;34m)\u001b[0m  \u001b[0;31m# Default to 'Unknown' if mapping fails\u001b[0m\u001b[0;34m\u001b[0m\u001b[0;34m\u001b[0m\u001b[0m\n\u001b[1;32m     79\u001b[0m             \u001b[0;32melse\u001b[0m\u001b[0;34m:\u001b[0m\u001b[0;34m\u001b[0m\u001b[0;34m\u001b[0m\u001b[0m\n",
      "\u001b[0;32m/usr/local/lib/python3.11/site-packages/pandas/core/series.py\u001b[0m in \u001b[0;36m__getitem__\u001b[0;34m(self, key)\u001b[0m\n\u001b[1;32m   1110\u001b[0m \u001b[0;34m\u001b[0m\u001b[0m\n\u001b[1;32m   1111\u001b[0m         \u001b[0;32melif\u001b[0m \u001b[0mkey_is_scalar\u001b[0m\u001b[0;34m:\u001b[0m\u001b[0;34m\u001b[0m\u001b[0;34m\u001b[0m\u001b[0m\n\u001b[0;32m-> 1112\u001b[0;31m             \u001b[0;32mreturn\u001b[0m \u001b[0mself\u001b[0m\u001b[0;34m.\u001b[0m\u001b[0m_get_value\u001b[0m\u001b[0;34m(\u001b[0m\u001b[0mkey\u001b[0m\u001b[0;34m)\u001b[0m\u001b[0;34m\u001b[0m\u001b[0;34m\u001b[0m\u001b[0m\n\u001b[0m\u001b[1;32m   1113\u001b[0m \u001b[0;34m\u001b[0m\u001b[0m\n\u001b[1;32m   1114\u001b[0m         \u001b[0;31m# Convert generator to list before going through hashable part\u001b[0m\u001b[0;34m\u001b[0m\u001b[0;34m\u001b[0m\u001b[0m\n",
      "\u001b[0;32m/usr/local/lib/python3.11/site-packages/pandas/core/series.py\u001b[0m in \u001b[0;36m_get_value\u001b[0;34m(self, label, takeable)\u001b[0m\n\u001b[1;32m   1226\u001b[0m \u001b[0;34m\u001b[0m\u001b[0m\n\u001b[1;32m   1227\u001b[0m         \u001b[0;31m# Similar to Index.get_value, but we do not fall back to positional\u001b[0m\u001b[0;34m\u001b[0m\u001b[0;34m\u001b[0m\u001b[0m\n\u001b[0;32m-> 1228\u001b[0;31m         \u001b[0mloc\u001b[0m \u001b[0;34m=\u001b[0m \u001b[0mself\u001b[0m\u001b[0;34m.\u001b[0m\u001b[0mindex\u001b[0m\u001b[0;34m.\u001b[0m\u001b[0mget_loc\u001b[0m\u001b[0;34m(\u001b[0m\u001b[0mlabel\u001b[0m\u001b[0;34m)\u001b[0m\u001b[0;34m\u001b[0m\u001b[0;34m\u001b[0m\u001b[0m\n\u001b[0m\u001b[1;32m   1229\u001b[0m \u001b[0;34m\u001b[0m\u001b[0m\n\u001b[1;32m   1230\u001b[0m         \u001b[0;32mif\u001b[0m \u001b[0mis_integer\u001b[0m\u001b[0;34m(\u001b[0m\u001b[0mloc\u001b[0m\u001b[0;34m)\u001b[0m\u001b[0;34m:\u001b[0m\u001b[0;34m\u001b[0m\u001b[0;34m\u001b[0m\u001b[0m\n",
      "\u001b[0;32m/usr/local/lib/python3.11/site-packages/pandas/core/indexes/base.py\u001b[0m in \u001b[0;36mget_loc\u001b[0;34m(self, key)\u001b[0m\n\u001b[1;32m   3810\u001b[0m             ):\n\u001b[1;32m   3811\u001b[0m                 \u001b[0;32mraise\u001b[0m \u001b[0mInvalidIndexError\u001b[0m\u001b[0;34m(\u001b[0m\u001b[0mkey\u001b[0m\u001b[0;34m)\u001b[0m\u001b[0;34m\u001b[0m\u001b[0;34m\u001b[0m\u001b[0m\n\u001b[0;32m-> 3812\u001b[0;31m             \u001b[0;32mraise\u001b[0m \u001b[0mKeyError\u001b[0m\u001b[0;34m(\u001b[0m\u001b[0mkey\u001b[0m\u001b[0;34m)\u001b[0m \u001b[0;32mfrom\u001b[0m \u001b[0merr\u001b[0m\u001b[0;34m\u001b[0m\u001b[0;34m\u001b[0m\u001b[0m\n\u001b[0m\u001b[1;32m   3813\u001b[0m         \u001b[0;32mexcept\u001b[0m \u001b[0mTypeError\u001b[0m\u001b[0;34m:\u001b[0m\u001b[0;34m\u001b[0m\u001b[0;34m\u001b[0m\u001b[0m\n\u001b[1;32m   3814\u001b[0m             \u001b[0;31m# If we have a listlike key, _check_indexing_error will raise\u001b[0m\u001b[0;34m\u001b[0m\u001b[0;34m\u001b[0m\u001b[0m\n",
      "\u001b[0;31mKeyError\u001b[0m: 'EVENT_NUM'"
     ]
    }
   ],
   "source": [
    "from ml_nba.preprocessing.process_game import process_game\n",
    "pd.set_option('display.max_rows', None)  # For all rows\n",
    "\n",
    "# First, process the raw game and event data\n",
    "game_df = process_game(GAME_KEY)"
   ]
  },
  {
   "cell_type": "code",
   "execution_count": null,
   "id": "b284349f",
   "metadata": {},
   "outputs": [],
   "source": [
    "from ml_nba.preprocessing.extract_dho_candidates import extract_dho_candidates\n",
    "\n",
    "# Next, perform the candidate extraction\n",
    "# NOTE: If using as training data, will require manual labeling\n",
    "dho_candidates = extract_dho_candidates(GAME_KEY)"
   ]
  },
  {
   "cell_type": "code",
   "execution_count": null,
   "id": "bdf305e0",
   "metadata": {},
   "outputs": [],
   "source": [
    "from ml_nba.preprocessing.persist_processed_game import persist_processed_game\n",
    "\n",
    "# Once candidates have been extracted and labeled, persist relevant game events\n",
    "persist_processed_game(GAME_KEY, overwrite=True)"
   ]
  },
  {
   "cell_type": "code",
   "execution_count": null,
   "id": "d23e5bf5",
   "metadata": {},
   "outputs": [],
   "source": [
    "from ml_nba.preprocessing.generate_dho_feature_vectors import generate_dho_feature_vectors\n",
    "\n",
    "# Finally, prepare a feature vector per candidate to inform the classification models\n",
    "generate_dho_feature_vectors(GAME_KEY)"
   ]
  },
  {
   "cell_type": "markdown",
   "id": "aa46642e",
   "metadata": {},
   "source": [
    "##### Below code can be used to visualize any game event (either in notebook, or to .gif)"
   ]
  },
  {
   "cell_type": "code",
   "execution_count": null,
   "id": "8b6ce73c",
   "metadata": {},
   "outputs": [],
   "source": [
    "from ml_nba.preprocessing.utilities.DataLoader import DataLoader\n",
    "from ml_nba.visualization.AnimationUtil import AnimationUtil\n",
    "\n",
    "EVENTNUM = 1\n",
    "\n",
    "#game_df = DataLoader.load_raw_game(GAME_KEY)\n",
    "#animator = AnimationUtil(game_df)\n",
    "\n",
    "#animator.display_animation(EVENTNUM) \n",
    "#animator.save_animation(EVENTNUM, f'{GAME_KEY}-{EVENTNUM}.gif')"
   ]
  }
 ],
 "metadata": {
  "kernelspec": {
   "display_name": "Django Shell-Plus",
   "language": "python",
   "name": "django_extensions"
  },
  "language_info": {
   "codemirror_mode": {
    "name": "ipython",
    "version": 3
   },
   "file_extension": ".py",
   "mimetype": "text/x-python",
   "name": "python",
   "nbconvert_exporter": "python",
   "pygments_lexer": "ipython3",
   "version": "3.11.9"
  }
 },
 "nbformat": 4,
 "nbformat_minor": 5
}
