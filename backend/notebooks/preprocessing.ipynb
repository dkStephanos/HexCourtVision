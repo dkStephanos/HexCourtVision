{
 "cells": [
  {
   "cell_type": "markdown",
   "id": "4e55e43f",
   "metadata": {},
   "source": [
    "# HexCourtVision Preprocessing\n",
    "\n",
    "This notebook is dedicated to the preprocessing of NBA game data. It covers the necessary steps to clean and prepare the data for subsequent analysis. The preprocessing includes data cleaning, alignment of player and ball positions, distance calculations between players and the ball, and identification of significant game events such as possession changes, shots, and passes. Follow the step-by-step guide provided in each section to transform raw game data into a structured and analyzable format."
   ]
  },
  {
   "cell_type": "code",
   "execution_count": null,
   "id": "c0325b55",
   "metadata": {},
   "outputs": [],
   "source": [
    "GAME_KEY = \"20151228SACGSW\" # Change to the game key you would like to process"
   ]
  },
  {
   "cell_type": "code",
   "execution_count": 1,
   "id": "65b0210a",
   "metadata": {},
   "outputs": [],
   "source": [
    "from ml_nba.preprocessing.process_game import process_game\n",
    "\n",
    "# First, process the raw game and event data\n",
    "game_df = process_game(GAME_KEY)"
   ]
  },
  {
   "cell_type": "code",
   "execution_count": null,
   "id": "b284349f",
   "metadata": {},
   "outputs": [],
   "source": [
    "from ml_nba.preprocessing.extract_dho_candidates import extract_dho_candidates\n",
    "\n",
    "# Next, perform the candidate extraction\n",
    "# NOTE: If using as training data, will require manual labeling\n",
    "dho_candidates = extract_dho_candidates(GAME_KEY)"
   ]
  },
  {
   "cell_type": "code",
   "execution_count": null,
   "id": "bdf305e0",
   "metadata": {},
   "outputs": [],
   "source": [
    "from ml_nba.preprocessing.persist_processed_game import persist_processed_game\n",
    "\n",
    "# Once candidates have been extracted and labeled, persist relevant game events\n",
    "persist_processed_game(GAME_KEY, overwrite=True)"
   ]
  },
  {
   "cell_type": "code",
   "execution_count": null,
   "id": "d23e5bf5",
   "metadata": {},
   "outputs": [],
   "source": [
    "from ml_nba.preprocessing.generate_dho_feature_vectors import generate_dho_feature_vectors\n",
    "\n",
    "# Finally, prepare a feature vector per candidate to inform the classification models\n",
    "generate_dho_feature_vectors(GAME_KEY)"
   ]
  },
  {
   "cell_type": "markdown",
   "id": "aa46642e",
   "metadata": {},
   "source": [
    "##### Below code can be used to visualize any game event (either in notebook, or to .gif)"
   ]
  },
  {
   "cell_type": "code",
   "execution_count": null,
   "id": "8b6ce73c",
   "metadata": {},
   "outputs": [],
   "source": [
    "from ml_nba.preprocessing.utilities.DataLoader import DataLoader\n",
    "from ml_nba.visualization.AnimationUtil import AnimationUtil\n",
    "\n",
    "EVENT_NUM = 1\n",
    "\n",
    "game_df = DataLoader.load_raw_game(GAME_KEY)\n",
    "animator = AnimationUtil(game_df)\n",
    "\n",
    "animator.display_animation(EVENT_NUM) \n",
    "#animator.save_animation(EVENT_NUM, f'{GAME_KEY}-{EVENT_NUM}.gif')"
   ]
  }
 ],
 "metadata": {
  "kernelspec": {
   "display_name": "Django Shell-Plus",
   "language": "python",
   "name": "django_extensions"
  },
  "language_info": {
   "codemirror_mode": {
    "name": "ipython",
    "version": 3
   },
   "file_extension": ".py",
   "mimetype": "text/x-python",
   "name": "python",
   "nbconvert_exporter": "python",
   "pygments_lexer": "ipython3",
   "version": "3.11.8"
  }
 },
 "nbformat": 4,
 "nbformat_minor": 5
}
