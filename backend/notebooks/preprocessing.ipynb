{
 "cells": [
  {
   "cell_type": "markdown",
   "id": "4e55e43f",
   "metadata": {},
   "source": [
    "# HexCourtVision Preprocessing\n",
    "\n",
    "This notebook is dedicated to the preprocessing of NBA game data. It covers the necessary steps to clean and prepare the data for subsequent analysis. The preprocessing includes data cleaning, alignment of player and ball positions, distance calculations between players and the ball, and identification of significant game events such as possession changes, shots, and passes. Follow the step-by-step guide provided in each section to transform raw game data into a structured and analyzable format."
   ]
  },
  {
   "cell_type": "code",
   "execution_count": 1,
   "id": "65b0210a",
   "metadata": {},
   "outputs": [],
   "source": [
    "from ml_nba.preprocessing.process_game import process_game\n",
    "\n",
    "GAME_KEY = \"20151228SACGSW\" # Change to the game key you would like to process\n",
    "\n",
    "game_df = process_game(GAME_KEY)"
   ]
  },
  {
   "cell_type": "code",
   "execution_count": null,
   "id": "b284349f",
   "metadata": {},
   "outputs": [],
   "source": [
    "from ml_nba.preprocessing.extract_dho_candidates import extract_dho_candidates\n",
    "\n",
    "dho_candidates = extract_dho_candidates(GAME_KEY)"
   ]
  }
 ],
 "metadata": {
  "kernelspec": {
   "display_name": "Django Shell-Plus",
   "language": "python",
   "name": "django_extensions"
  },
  "language_info": {
   "codemirror_mode": {
    "name": "ipython",
    "version": 3
   },
   "file_extension": ".py",
   "mimetype": "text/x-python",
   "name": "python",
   "nbconvert_exporter": "python",
   "pygments_lexer": "ipython3",
   "version": "3.11.8"
  }
 },
 "nbformat": 4,
 "nbformat_minor": 5
}
